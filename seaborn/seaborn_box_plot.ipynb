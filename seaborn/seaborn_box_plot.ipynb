{
  "nbformat": 4,
  "nbformat_minor": 0,
  "metadata": {
    "colab": {
      "provenance": []
    },
    "kernelspec": {
      "name": "python3",
      "display_name": "Python 3"
    },
    "language_info": {
      "name": "python"
    }
  },
  "cells": [
    {
      "cell_type": "markdown",
      "source": [
        "#Firstly diffn of mean and median\n",
        "\n",
        "https://www.youtube.com/watch?v=0ifDuw-Qgvo\n",
        "\n",
        "\n",
        "\n",
        "mean vanae ko values ma depend garnu kura ho x1+x2/2 yesto ho\n",
        "yo values and outliers lae garda dherai change hunxa\n",
        "\n",
        "\n",
        "median vanae ko no of data ma var paarni kura ho eg:\n",
        "x1,x2,x3,x4,x5\n",
        "ko medain jailae ni x3 nai hunxa\n",
        "\n",
        "median vanae ko bas dya maddhae ko bich ma parni value\n",
        "\n",
        "\n",
        "\n",
        "mean ko value diya data points nai na huna sakxa\n",
        "median ko valae jailae ni dya dtapoints madhyae nai kunai yeuta hunxa yedi no of data odd xa vanae\n",
        "\n",
        "\n",
        "\n",
        "bas median vanae ko chai yesto point jaslae data point lai 50% yek tira baki 50% lai aarko tira divide garxa"
      ],
      "metadata": {
        "id": "PrkAxw6p11Qa"
      }
    },
    {
      "cell_type": "markdown",
      "source": [
        "# Box Plot\n",
        "\n",
        "references:\n",
        "\n",
        "https://www.youtube.com/watch?v=Vo-bfTqEFQk&list=PLtPIclEQf-3cG31dxSMZ8KTcDG7zYng1j&index=5\n",
        "\n",
        "\n",
        "https://www.youtube.com/watch?v=INSIyaZUXIY"
      ],
      "metadata": {
        "id": "LLh5Ubkb64ku"
      }
    },
    {
      "cell_type": "markdown",
      "source": [
        "#concepts:\n",
        "\n",
        "\n",
        "paila suru ta yeslae ta data ko median khojxa\n",
        "\n",
        "vanae xin data 50%,ra 50% huni vayo dui tira\n",
        "\n",
        "tyo median line draw hunxa\n",
        "\n",
        "\n",
        "aaba pratyek side (50%) wala side ko ni aadi aadi ma divide hunxa\n",
        "\n",
        "vanae xi 25% 50% ra 75% data contain garni line draw hunxa\n",
        "25% lai 1st quartile or d1 vaninxa. ra 75% line lai third quartile line or q3 vaninxa\n",
        "\n",
        "vanae xi tyo banae ko box vitra 50% data contain vako hunxa\n",
        "\n",
        "\n",
        "aaba wishker ko lagi\n",
        "\n",
        "\n",
        "\n",
        "tyo whisker ko max length vanae ko 1.5 times length of box hunxa\n",
        "\n",
        "tara teti para samman data point nai xaina vanae tyo whisker last datapoint mai end hunxa\n",
        "\n",
        "\n",
        "aani data point haru tyo vanda ni badi xa vanae tellai outlier ko rup ma linxa yellae anitm data point samman whisker nai hunxa aani outlier lai chai dot dinxa\n",
        "\n"
      ],
      "metadata": {
        "id": "Q2C6xyyi7DD4"
      }
    },
    {
      "cell_type": "code",
      "source": [
        "import numpy as np\n",
        "import matplotlib.pyplot as plt\n",
        "import seaborn as sns"
      ],
      "metadata": {
        "id": "ZJLUyl6D9-W5"
      },
      "execution_count": null,
      "outputs": []
    },
    {
      "cell_type": "code",
      "execution_count": null,
      "metadata": {
        "id": "9G0d5o4O1vKi"
      },
      "outputs": [],
      "source": [
        "datapoints=np.array([1,2,3,4,5])\n",
        "#vanae xi yo data point ko lagi median line 3 ma bannu parxa\n",
        "#left side ko aadi vanae ko 1 oota data huni vayo\n",
        "#vanae xi 2 ma line bannu paryo 25% wala or q1 wala\n",
        "#right side ko aadhi matlab 1 oota data parnu paryo\n",
        "#so 4 ma q3 ko line bannu paryo\n"
      ]
    },
    {
      "cell_type": "code",
      "source": [
        "#distance of box\n",
        "4-2"
      ],
      "metadata": {
        "colab": {
          "base_uri": "https://localhost:8080/"
        },
        "id": "j1KkLqSn93oh",
        "outputId": "d9f8e904-c4d9-4fc2-937e-3a23f4037f50"
      },
      "execution_count": null,
      "outputs": [
        {
          "output_type": "execute_result",
          "data": {
            "text/plain": [
              "2"
            ]
          },
          "metadata": {},
          "execution_count": 4
        }
      ]
    },
    {
      "cell_type": "code",
      "source": [
        "#max length of whisker\n",
        "1.5*(4-2)"
      ],
      "metadata": {
        "colab": {
          "base_uri": "https://localhost:8080/"
        },
        "id": "kc0DDuT3-G9d",
        "outputId": "4a5d9eba-565b-47d9-fb72-a3b9b5599fae"
      },
      "execution_count": null,
      "outputs": [
        {
          "output_type": "execute_result",
          "data": {
            "text/plain": [
              "3.0"
            ]
          },
          "metadata": {},
          "execution_count": 5
        }
      ]
    },
    {
      "cell_type": "code",
      "source": [
        "#vanae xi 2 vanda 3 units para samman max length ho whisker ko matlab -1 samman  chai jana milxa whisker tara yaa 1 left side ma 1 samman matrai data xa\n",
        "#tei vayae ra left side ma 1 samman matrai janxa whisker"
      ],
      "metadata": {
        "id": "mfrVLTD0-LLt"
      },
      "execution_count": null,
      "outputs": []
    },
    {
      "cell_type": "code",
      "source": [
        "#right side ma\n",
        "#4+3 =7 samman jana milxa whisker tara data point 5 mai end vako xa so 5 samman matrai janxa"
      ],
      "metadata": {
        "id": "XpHu9VcA-khV"
      },
      "execution_count": null,
      "outputs": []
    },
    {
      "cell_type": "code",
      "source": [
        "sns.boxplot(datapoints)"
      ],
      "metadata": {
        "colab": {
          "base_uri": "https://localhost:8080/",
          "height": 428
        },
        "id": "SuDSOTgn-8YA",
        "outputId": "01b570b9-40f2-40b6-df9a-9c2eeb5837a2"
      },
      "execution_count": null,
      "outputs": [
        {
          "output_type": "execute_result",
          "data": {
            "text/plain": [
              "<Axes: >"
            ]
          },
          "metadata": {},
          "execution_count": 9
        },
        {
          "output_type": "display_data",
          "data": {
            "text/plain": [
              "<Figure size 640x480 with 1 Axes>"
            ],
            "image/png": "[encoded data removed]"
          },
          "metadata": {}
        }
      ]
    },
    {
      "cell_type": "markdown",
      "source": [
        "# outliers ko lagi"
      ],
      "metadata": {
        "id": "uxH8ohc__ba5"
      }
    },
    {
      "cell_type": "code",
      "source": [
        "datapoints=np.array([3,7,8,9,100])\n",
        "#median  8 ma parxa\n",
        "#7=q1\n",
        "#9=q2\n",
        "#distance of box:9-7=2\n",
        "#max length of whisker:1.5*2=3\n",
        "#vanae xi left ma 7-3=4 saman mixa whisker ko length tara 3 xa data point teta tyo outlier hunu parxa\n",
        "#teta pati kunai whisker nai bandaina as left side ma milni data point nai xaina\n",
        "#same for right side"
      ],
      "metadata": {
        "id": "gOUGpPOX_V8c"
      },
      "execution_count": null,
      "outputs": []
    },
    {
      "cell_type": "code",
      "source": [
        "sns.boxplot(datapoints)"
      ],
      "metadata": {
        "colab": {
          "base_uri": "https://localhost:8080/",
          "height": 428
        },
        "id": "eOpaA2aUAvz6",
        "outputId": "7eb9f3ab-c585-419d-b451-aab218075e4b"
      },
      "execution_count": null,
      "outputs": [
        {
          "output_type": "execute_result",
          "data": {
            "text/plain": [
              "<Axes: >"
            ]
          },
          "metadata": {},
          "execution_count": 11
        },
        {
          "output_type": "display_data",
          "data": {
            "text/plain": [
              "<Figure size 640x480 with 1 Axes>"
            ],
            "image/png": "[encoded data removed]"
          },
          "metadata": {}
        }
      ]
    },
    {
      "cell_type": "markdown",
      "source": [
        "# uses of box plot\n",
        "\n",
        "1.it helps to understand about the distribution of data as 50% of data lies inside the box 25% of the data in each side\n",
        "\n",
        "\n",
        "2.it helps to know about the outliers in our data\n",
        "\n",
        "3.used to compare 2 or more groups\n",
        "\n",
        "\n",
        "note:sometimes mean linepani dekhaiye ko hunxa using the dash line"
      ],
      "metadata": {
        "id": "y6pL8AYHBXNY"
      }
    },
    {
      "cell_type": "code",
      "source": [],
      "metadata": {
        "id": "7N10qbT2AxrO"
      },
      "execution_count": null,
      "outputs": []
    }
  ]
}